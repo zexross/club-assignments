{
  "nbformat": 4,
  "nbformat_minor": 0,
  "metadata": {
    "colab": {
      "name": "Multi Layer Preceptron[Digit Data Scikit].ipynb",
      "provenance": [],
      "collapsed_sections": [],
      "include_colab_link": true
    },
    "kernelspec": {
      "name": "python3",
      "display_name": "Python 3"
    },
    "accelerator": "GPU"
  },
  "cells": [
    {
      "cell_type": "markdown",
      "metadata": {
        "id": "view-in-github",
        "colab_type": "text"
      },
      "source": [
        "<a href=\"https://colab.research.google.com/github/zexross/club-assignments/blob/master/multi-layer-preceptron/Multi_Layer_Preceptron%5BDigit_Data_Scikit%5D.ipynb\" target=\"_parent\"><img src=\"https://colab.research.google.com/assets/colab-badge.svg\" alt=\"Open In Colab\"/></a>"
      ]
    },
    {
      "cell_type": "code",
      "metadata": {
        "id": "kveKPW-axdHl",
        "colab_type": "code",
        "colab": {}
      },
      "source": [
        "import math\n",
        "import struct as st\n",
        "import numpy as np\n",
        "import matplotlib.pyplot as plt\n",
        "from sklearn.datasets import load_digits"
      ],
      "execution_count": 1,
      "outputs": []
    },
    {
      "cell_type": "code",
      "metadata": {
        "id": "5cPNYV4NxiYd",
        "colab_type": "code",
        "colab": {}
      },
      "source": [
        " # Initialize the Parameters   \n",
        "def initialize_parameters(layer_dims):\n",
        "    parameters = {}\n",
        "    L = len(layer_dims)            # number of layers in the network\n",
        "\n",
        "    for l in range(1, L):\n",
        "        parameters['W' + str(l)] = np.random.randn(layer_dims[l], layer_dims[l-1])*0.01\n",
        "        parameters['b' + str(l)] = np.zeros((layer_dims[l], 1))\n",
        "        \n",
        "        assert(parameters['W' + str(l)].shape == (layer_dims[l], layer_dims[l-1]))\n",
        "        assert(parameters['b' + str(l)].shape == (layer_dims[l], 1))\n",
        "        \n",
        "    return parameters    "
      ],
      "execution_count": 2,
      "outputs": []
    },
    {
      "cell_type": "code",
      "metadata": {
        "id": "y8tHAPBLxm8I",
        "colab_type": "code",
        "colab": {}
      },
      "source": [
        "#Activation Funtion\n",
        "def sigmoid(Z):\n",
        "    A=1/(1+np.exp(-Z))\n",
        "    return A\n",
        "\n",
        "def tanh(Z):               # Use of tanh function\n",
        "    A=np.tanh(Z)\n",
        "    return A"
      ],
      "execution_count": 3,
      "outputs": []
    },
    {
      "cell_type": "code",
      "metadata": {
        "id": "H1HtpqHHxn1K",
        "colab_type": "code",
        "colab": {}
      },
      "source": [
        "#Calculation of Z = W*A_previouse + B\n",
        "def linear_forward(A,W,b):\n",
        "    Z=np.dot(W,A)+b\n",
        "    return Z"
      ],
      "execution_count": 4,
      "outputs": []
    },
    {
      "cell_type": "code",
      "metadata": {
        "id": "vBZpE2kzxrAE",
        "colab_type": "code",
        "colab": {}
      },
      "source": [
        "# Calculation the of the activation Funtion. \n",
        "#        A = Sigmoid(Z) **Need to Update**\n",
        "def linear_activation_forward(A_prev, W, b, activation_type): \n",
        "    \n",
        "    if activation_type == \"Sigmoid\":            #Use of activation funtion in hidden layer is Sigmoid funtion\n",
        "        Z=linear_forward(A_prev,W,b)\n",
        "        A=sigmoid(Z)\n",
        "    elif activation_type == \"tanh\":\n",
        "        Z=linear_forward(A_prev,W,b)\n",
        "        A=tanh(Z)\n",
        "                   \n",
        "    return A,Z  "
      ],
      "execution_count": 5,
      "outputs": []
    },
    {
      "cell_type": "code",
      "metadata": {
        "id": "TWDNwXN3xt1U",
        "colab_type": "code",
        "colab": {}
      },
      "source": [
        "#Compute Cost of the overall model.\n",
        "#       Cost = Summation(Loss)/(Number of input data), where Loss= - Y*ln(Activation) - (1-Y)*ln(1 - Activation)\n",
        "def compute_cost(AL,Y):\n",
        "    data_length = Y.shape[1]\n",
        "    cost =(-1/data_length) * np.sum(np.multiply(Y, np.log(AL)) + np.multiply(1 - Y, np.log(1 - AL)))\n",
        "    cost = np.squeeze(cost)\n",
        "    assert(cost.shape == ())  \n",
        "    return cost"
      ],
      "execution_count": 6,
      "outputs": []
    },
    {
      "cell_type": "code",
      "metadata": {
        "id": "uroZMvxaxwp6",
        "colab_type": "code",
        "colab": {}
      },
      "source": [
        "# Linear_backward\n",
        "def linear_backward(dZ, A):\n",
        "    data_length = A.shape[1]\n",
        "    dW = (1/data_length)*np.dot(dZ,A.T)\n",
        "    db = (1/data_length)*np.sum(dZ, axis=1, keepdims=True)\n",
        "    return dW,db"
      ],
      "execution_count": 7,
      "outputs": []
    },
    {
      "cell_type": "code",
      "metadata": {
        "id": "N1jwuGDtxzjr",
        "colab_type": "code",
        "colab": {}
      },
      "source": [
        "# Linear_activation_backward\n",
        "def linear_activation_backward(A, cache, Layer):\n",
        "    if Layer == \"Output Layer\":\n",
        "        Y, AL = cache\n",
        "        dZ2 = A - Y\n",
        "        dW, db = linear_backward(dZ2, AL)\n",
        "        return dZ2, dW, db\n",
        "    elif Layer == \"Hidden Layer\":\n",
        "        X, W2, dZ2 = cache\n",
        "        dZ1 = np.dot(W2.T,dZ2)*(1-pow(A,2))\n",
        "        dW, db = linear_backward(dZ1, X)\n",
        "        return dZ1,dW, db"
      ],
      "execution_count": 8,
      "outputs": []
    },
    {
      "cell_type": "code",
      "metadata": {
        "id": "Oux9B7qYx3gA",
        "colab_type": "code",
        "colab": {}
      },
      "source": [
        "# Updates the parameters according to the obtained gradient values\n",
        "def update_parameters(parameters, grads, learning_rate):\n",
        "    \n",
        "    L = len(parameters)//2           # number of layers in the neural network\n",
        "    \n",
        "    for l in range(L):                  # Update rule for each parameter. Use a for loop.\n",
        "        parameters[\"W\" + str(l+1)] = parameters[\"W\" + str(l + 1)] - learning_rate * grads[\"dW\" + str(l + 1)]\n",
        "        parameters[\"b\" + str(l+1)] = parameters[\"b\" + str(l + 1)] - learning_rate * grads[\"db\" + str(l + 1)]    \n",
        "    return parameters"
      ],
      "execution_count": 9,
      "outputs": []
    },
    {
      "cell_type": "code",
      "metadata": {
        "id": "dAeLqGQax87y",
        "colab_type": "code",
        "colab": {}
      },
      "source": [
        "# Main body of the Nueral Net Model which contains the procedural instructions to the execution of Nueral net model\n",
        "def L_layer_network(X,Y,learningrate,layer_dims,num_iterations,print_cost):\n",
        "    costs=[]\n",
        "    \n",
        "    #Initailise and fetch the weights through dictionary\n",
        "    parameters = initialize_parameters(layer_dims)\n",
        "    L = len(parameters) // 2                           # number of layers in the neural network\n",
        "    activation = {}\n",
        "    linearsum = {}\n",
        "    \n",
        "    for i in range(0, num_iterations):\n",
        "        A = X\n",
        "        # Forward propagation\n",
        "        for l in range(1, L):\n",
        "            A_prev = A\n",
        "            activation['A'+str(l)], linearsum['Z'+str(l)] = linear_activation_forward(A_prev, parameters['W'+str(l)], parameters['b' + str(l)], \"tanh\")   #Calculation of activaion output of hidden layer\n",
        "            A = activation['A'+str(l)]\n",
        "        \n",
        "        activation['A'+str(L)], linearsum['Z'+str(L)] = linear_activation_forward(A, parameters['W'+str(L)], parameters['b' + str(L)], \"Sigmoid\")        #Calculation of activation output of output layer\n",
        "    \n",
        "        # Compute cost\n",
        "        cost = compute_cost(activation['A'+str(L)], Y)\n",
        "        costs.append(cost)\n",
        "        \n",
        "         # Stores the gradient values in the dictionary grads\n",
        "        grads = {}\n",
        "        data_length = Y.shape[1]\n",
        "        \n",
        "        # Backward propagation\n",
        "        activation['A'+str(0)] = X\n",
        "        cache = (Y, activation['A'+str(L-1)])\n",
        "        linearsum['dZ'+str(L)] ,grads['dW'+str(L)], grads['db'+str(L)] = linear_activation_backward(activation['A'+str(L)], cache, \"Output Layer\")\n",
        "        \n",
        "        for l in reversed(range(1,L)):\n",
        "            cache = (activation['A'+str(l-1)], parameters['W'+str(l+1)], linearsum['dZ'+str(l+1)])\n",
        "            linearsum['dZ'+str(l)], grads['dW'+str(l)], grads['db'+str(l)] = linear_activation_backward(activation['A'+str(l)], cache, \"Hidden Layer\")\n",
        "        \n",
        "    \n",
        "        # Update the parameters\n",
        "        parameters =  update_parameters(parameters, grads, learningrate)\n",
        "        \n",
        "        #Vary the learning rate\n",
        "        if(cost > 0.37):\n",
        "            learningrate = learningrate\n",
        "        elif(cost<0.37 and cost>0.2):\n",
        "            learningrate = 0.5\n",
        "        elif(cost<0.25 and cost>0.1):\n",
        "            learningrate = 0.3\n",
        "            \n",
        "        # Print the cost every 100 training example\n",
        "        if print_cost and i % 100 == 0:\n",
        "            print(\"Cost after iteration {}: {}\".format(i, np.squeeze(cost)))\n",
        "    \n",
        "    #Plot the cost funtion curve\n",
        "    plt.plot(costs)\n",
        "    plt.ylabel(\"Cost\")\n",
        "    plt.xlabel(\"iterations\")\n",
        "    plt.show()\n",
        "    return parameters,activation,linearsum"
      ],
      "execution_count": 10,
      "outputs": []
    },
    {
      "cell_type": "code",
      "metadata": {
        "id": "HTEl29m5x-rk",
        "colab_type": "code",
        "colab": {
          "base_uri": "https://localhost:8080/",
          "height": 34
        },
        "outputId": "b9a202e5-09b2-465b-b161-ad6829f3b4e8"
      },
      "source": [
        "# Input Data(Digit Data Set)\n",
        "\n",
        "digits = load_digits()\n",
        "print(\"Data size:\",digits.data.shape)\n",
        "X = (1/255)*digits.data"
      ],
      "execution_count": 11,
      "outputs": [
        {
          "output_type": "stream",
          "text": [
            "Data size: (1797, 64)\n"
          ],
          "name": "stdout"
        }
      ]
    },
    {
      "cell_type": "code",
      "metadata": {
        "id": "KhWn6buTyEHD",
        "colab_type": "code",
        "colab": {
          "base_uri": "https://localhost:8080/",
          "height": 466
        },
        "outputId": "d4349b11-4da4-467c-d886-e75afa8632c2"
      },
      "source": [
        "layer_dims = [np.squeeze(np.shape(X[0])),20,10]\n",
        "learningrate = 1\n",
        "print_cost=True\n",
        "\n",
        "#Label Data(Digit Data Set)\n",
        "label_array = digits.target\n",
        "\n",
        "print(\"Size images_array : \",len(label_array))\n",
        "\n",
        "Y=np.zeros((len(label_array),10))\n",
        "for i in range (0,len(label_array)):\n",
        "    for j in range (0,10):\n",
        "        if label_array[i]==j:\n",
        "            Y[i][j] = 1\n",
        "        else:\n",
        "            Y[i][j] = 0\n",
        "\n",
        "parameters,activation,linearsum = L_layer_network(X.T, Y.T, learningrate, layer_dims, 1000, print_cost)"
      ],
      "execution_count": 12,
      "outputs": [
        {
          "output_type": "stream",
          "text": [
            "Size images_array :  1797\n",
            "Cost after iteration 0: 6.931508162210922\n",
            "Cost after iteration 100: 3.2502415683158214\n",
            "Cost after iteration 200: 3.2454574231094253\n",
            "Cost after iteration 300: 3.1836115062839276\n",
            "Cost after iteration 400: 2.6947164028044743\n",
            "Cost after iteration 500: 2.7653173629530534\n",
            "Cost after iteration 600: 2.252185541023886\n",
            "Cost after iteration 700: 1.658391041672186\n",
            "Cost after iteration 800: 1.4467439591464164\n",
            "Cost after iteration 900: 1.3290130574607975\n"
          ],
          "name": "stdout"
        },
        {
          "output_type": "display_data",
          "data": {
            "image/png": "[encoded data removed]",
            "text/plain": [
              "<Figure size 432x288 with 1 Axes>"
            ]
          },
          "metadata": {
            "tags": [],
            "needs_background": "light"
          }
        }
      ]
    },
    {
      "cell_type": "code",
      "metadata": {
        "id": "nkXRMHlUyODc",
        "colab_type": "code",
        "colab": {}
      },
      "source": [
        "# Decodes the output that the trained model predicts on the testing set\n",
        "def Output(A2):\n",
        "    key = A2[0][0]\n",
        "    p = 0\n",
        "    for i in range (0,10):\n",
        "        if A2[i][0]>=key:\n",
        "                p = i\n",
        "                key = A2[i][0]\n",
        "    return p"
      ],
      "execution_count": 13,
      "outputs": []
    },
    {
      "cell_type": "code",
      "metadata": {
        "id": "zDg1RHKCyb40",
        "colab_type": "code",
        "colab": {}
      },
      "source": [
        "# Calculates the accuracy the trained model is able to achieve\n",
        "def accuracy_predictor(out, label_array):\n",
        "    fav = 0\n",
        "    for i in range(0,51):\n",
        "        if(out[i]==label_array[i]):\n",
        "            fav = fav + 1\n",
        "    accuracy = fav/51*100\n",
        "    return accuracy"
      ],
      "execution_count": 14,
      "outputs": []
    },
    {
      "cell_type": "code",
      "metadata": {
        "id": "yJXw_9ruyh3T",
        "colab_type": "code",
        "colab": {}
      },
      "source": [
        "def modeltest(X,parameters,activation,linearsum,out):\n",
        "    L = len(parameters) // 2 \n",
        "    A = X\n",
        "    for l in range(1, L):\n",
        "            A_prev = A\n",
        "            activation['A'+str(l)], linearsum['Z'+str(l)] = linear_activation_forward(A_prev, parameters['W'+str(l)], parameters['b' + str(l)], \"tanh\")   #Calculation of activaion output of hidden layer\n",
        "            A = activation['A'+str(l)]\n",
        "        \n",
        "    activation['A'+str(L)], linearsum['Z'+str(L)] = linear_activation_forward(A, parameters['W'+str(L)], parameters['b' + str(L)], \"Sigmoid\")        #Calculation of activation output of output layer\n",
        "    \n",
        "    A = Output(activation['A'+str(L)])\n",
        "    out.append(A)\n",
        "    return out"
      ],
      "execution_count": 15,
      "outputs": []
    },
    {
      "cell_type": "code",
      "metadata": {
        "id": "cc4FBgvMymNv",
        "colab_type": "code",
        "colab": {
          "base_uri": "https://localhost:8080/",
          "height": 68
        },
        "outputId": "b6cf2f04-32c8-48b9-e5ac-c9ecb5d216e7"
      },
      "source": [
        "Train_X=np.zeros(shape=(64,1))\n",
        "out = []\n",
        "for j in range(0,len(label_array[:51])):\n",
        "    for i in range(0,64):\n",
        "        Train_X[i][0] = X[j][i]\n",
        "    out = modeltest(Train_X, parameters,activation,linearsum, out)\n",
        "    \n",
        "accuracy = accuracy_predictor(out,label_array[:51])    \n",
        "print(\"A :\",out, end=\" \")\n",
        "print(\"\\n\\naccuracy = \", accuracy, end=\"%\")"
      ],
      "execution_count": 16,
      "outputs": [
        {
          "output_type": "stream",
          "text": [
            "A : [0, 1, 1, 3, 4, 9, 6, 7, 8, 9, 0, 1, 1, 3, 4, 5, 6, 7, 8, 9, 0, 1, 2, 3, 4, 5, 6, 9, 8, 9, 0, 9, 5, 5, 6, 5, 0, 5, 5, 9, 8, 4, 1, 7, 7, 3, 5, 1, 0, 0, 8] \n",
            "\n",
            "accuracy =  86.27450980392157%"
          ],
          "name": "stdout"
        }
      ]
    },
    {
      "cell_type": "markdown",
      "metadata": {
        "id": "XzkXY_TFX-ZJ",
        "colab_type": "text"
      },
      "source": [
        "## End Note\n",
        "\n",
        "---\n",
        "Now create your own changes to optimise the model. Best of luck!!\n"
      ]
    }
  ]
}