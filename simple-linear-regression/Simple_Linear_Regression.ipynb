{
  "nbformat": 4,
  "nbformat_minor": 0,
  "metadata": {
    "colab": {
      "name": " Simple Linear Regression.ipynb",
      "provenance": [],
      "include_colab_link": true
    },
    "kernelspec": {
      "name": "python3",
      "display_name": "Python 3"
    }
  },
  "cells": [
    {
      "cell_type": "markdown",
      "metadata": {
        "id": "view-in-github",
        "colab_type": "text"
      },
      "source": [
        "<a href=\"https://colab.research.google.com/github/zexross/club-assignments/blob/master/simple-linear-regression/Simple_Linear_Regression.ipynb\" target=\"_parent\"><img src=\"https://colab.research.google.com/assets/colab-badge.svg\" alt=\"Open In Colab\"/></a>"
      ]
    },
    {
      "cell_type": "code",
      "metadata": {
        "id": "41_eeIZFDxwi",
        "colab_type": "code",
        "colab": {}
      },
      "source": [
        "import numpy as np\n",
        "import matplotlib.pyplot as plt"
      ],
      "execution_count": null,
      "outputs": []
    },
    {
      "cell_type": "code",
      "metadata": {
        "id": "pH4PTJmUECVM",
        "colab_type": "code",
        "colab": {}
      },
      "source": [
        "#Initialize the parameters\n",
        "\n",
        "def initialize_parameters(n_x):\n",
        "    W = np.zeros((1,n_x))\n",
        "    b = np.zeros((1,n_x))\n",
        "    \n",
        "    parameters = {\"W\": W,\n",
        "                  \"b\": b}\n",
        "        \n",
        "    return parameters"
      ],
      "execution_count": null,
      "outputs": []
    },
    {
      "cell_type": "code",
      "metadata": {
        "id": "ApPXeGvyEmh3",
        "colab_type": "code",
        "colab": {}
      },
      "source": [
        "#Calculation of Z = W*A_previous + B\n",
        "\n",
        "def linear_forward(A,W,b):\n",
        "    Z=np.dot(W,A)+b\n",
        "    linear_cache = (A,W,b)\n",
        "    return Z,linear_cache"
      ],
      "execution_count": null,
      "outputs": []
    },
    {
      "cell_type": "code",
      "metadata": {
        "id": "T0i1dWJDE3dX",
        "colab_type": "code",
        "colab": {}
      },
      "source": [
        "#Compute Cost of the overall model.\n",
        "\n",
        "def compute_cost(H,Y):\n",
        "    data_length = len(Y)\n",
        "    cost =1/(2*data_length) * np.sum(np.multiply(H - Y, H - Y))\n",
        "    cost = np.squeeze(cost)\n",
        "    assert(cost.shape == ())  \n",
        "    return cost"
      ],
      "execution_count": null,
      "outputs": []
    },
    {
      "cell_type": "code",
      "metadata": {
        "id": "Sky8kBVhGeJH",
        "colab_type": "code",
        "colab": {}
      },
      "source": [
        "# Linear_backward\n",
        "\n",
        "def gradient_descent(H, Y, X):\n",
        "    data_length = len(X)\n",
        "    dW = (1/data_length)*np.sum(np.dot(H - Y,X.T))\n",
        "    db = (1/data_length)*np.sum(H - Y)\n",
        "    return dW,db"
      ],
      "execution_count": null,
      "outputs": []
    },
    {
      "cell_type": "code",
      "metadata": {
        "id": "chQwboNTXPIG",
        "colab_type": "code",
        "colab": {}
      },
      "source": [
        "# Updates the parameters according to the obtained gradient values\n",
        "\n",
        "def update_parameters(parameters, grads, learning_rate):\n",
        "    parameters[\"W\"] = parameters[\"W\"] - learning_rate * grads[\"dW\"]\n",
        "    parameters[\"b\"] = parameters[\"b\"] - learning_rate * grads[\"db\"]    \n",
        "    return parameters"
      ],
      "execution_count": null,
      "outputs": []
    },
    {
      "cell_type": "code",
      "metadata": {
        "id": "oA4bOGSOX2Rq",
        "colab_type": "code",
        "colab": {}
      },
      "source": [
        "# Main body of the Simple Regression Model which contains the procedural instructions to the execution of model\n",
        "\n",
        "def linear_regression(X,Y,learningrate,n_x,num_iterations,print_cost):\n",
        "    costs=[]\n",
        "    \n",
        "    #Initailise and fetch the weights through dictionary\n",
        "    parameters = initialize_parameters(n_x)\n",
        "    W = parameters[\"W\"]\n",
        "    b = parameters[\"b\"]\n",
        "    \n",
        "    for i in range(0, num_iterations):\n",
        "    \n",
        "        # Forward propagation\n",
        "        Z,linear_cache1 = linear_forward(X, W, b)   #Calculation of prediction or output value\n",
        "    \n",
        "        # Compute cost\n",
        "        cost = compute_cost(Z, Y)\n",
        "        costs.append(cost)       \n",
        "    \n",
        "        # Gradient Descent\n",
        "        dW, db = gradient_descent(Z, Y, X)\n",
        "    \n",
        "        # Stores the gradient values in the dictionary grads\n",
        "        grads = { \"dW\" : dW,\n",
        "                  \"db\" : db}\n",
        "        \n",
        "        # Update the parameters\n",
        "        parameters =  update_parameters(parameters, grads, learningrate)\n",
        "    \n",
        "        # Retrieve W, b from the dictionary parameters\n",
        "        W = parameters[\"W\"]\n",
        "        b = parameters[\"b\"]\n",
        "        \n",
        "        # Print the cost every 100 training example\n",
        "        if print_cost and i % 10 == 0:\n",
        "            print(\"Cost after iteration {}: {}\".format(i, np.squeeze(cost)))\n",
        "    \n",
        "    #Plot the cost funtion curve\n",
        "    plt.plot(costs)\n",
        "    plt.ylabel(\"Cost\")\n",
        "    plt.xlabel(\"iterations\")\n",
        "    plt.show()\n",
        "    return parameters"
      ],
      "execution_count": null,
      "outputs": []
    },
    {
      "cell_type": "code",
      "metadata": {
        "id": "VKtv7Cm6aV-3",
        "colab_type": "code",
        "colab": {}
      },
      "source": [
        "# Input Data\n",
        "\n",
        "X = np.array([2, 4, 6, 8, 10, 12, 14, 16, 18, 20, 22, 24, 26, 28, 30])\n",
        "Y = np.array([6, 10, 18, 26, 28, 37, 41, 50, 53, 62, 66, 70, 80, 82, 88])"
      ],
      "execution_count": null,
      "outputs": []
    },
    {
      "cell_type": "code",
      "metadata": {
        "id": "gpmb-ZIadbyf",
        "colab_type": "code",
        "colab": {
          "base_uri": "https://localhost:8080/",
          "height": 449
        },
        "outputId": "3e3f1dec-5f02-4e9b-e024-ccdd5bedd51c"
      },
      "source": [
        "n_x= len(X)\n",
        "learningrate = 0.0001\n",
        "print_cost=True\n",
        "\n",
        "parameters = linear_regression(X.T, Y.T, learningrate, n_x, 100, print_cost)"
      ],
      "execution_count": null,
      "outputs": [
        {
          "output_type": "stream",
          "text": [
            "Cost after iteration 0: 1474.9\n",
            "Cost after iteration 10: 422.41826122775757\n",
            "Cost after iteration 20: 428.98182276962007\n",
            "Cost after iteration 30: 429.03428914280175\n",
            "Cost after iteration 40: 429.0347012807056\n",
            "Cost after iteration 50: 429.0347045177231\n",
            "Cost after iteration 60: 429.0347045431472\n",
            "Cost after iteration 70: 429.0347045433472\n",
            "Cost after iteration 80: 429.0347045433489\n",
            "Cost after iteration 90: 429.03470454334865\n"
          ],
          "name": "stdout"
        },
        {
          "output_type": "display_data",
          "data": {
            "image/png": "[encoded data removed]",
            "text/plain": [
              "<Figure size 432x288 with 1 Axes>"
            ]
          },
          "metadata": {
            "tags": [],
            "needs_background": "light"
          }
        }
      ]
    },
    {
      "cell_type": "markdown",
      "metadata": {
        "id": "sH7rmk7zY39n",
        "colab_type": "text"
      },
      "source": [
        "## End Note\n",
        "---\n",
        "Go ahead change the hyperparameters to improve the perfomance. Optionally, look for better architectures"
      ]
    }
  ]
}